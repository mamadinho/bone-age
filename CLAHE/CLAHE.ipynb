{
 "cells": [
  {
   "cell_type": "code",
   "execution_count": null,
   "id": "2bd96049",
   "metadata": {},
   "outputs": [],
   "source": [
    "import os, glob, cv2\n",
    "import matplotlib.pyplot as plt\n",
    "from tqdm import tqdm"
   ]
  },
  {
   "cell_type": "code",
   "execution_count": null,
   "id": "aa401647",
   "metadata": {},
   "outputs": [],
   "source": [
    "!mkdir processed-dataset-final"
   ]
  },
  {
   "cell_type": "markdown",
   "id": "c7f0a987",
   "metadata": {},
   "source": [
    "## Visualize Non-Segmented"
   ]
  },
  {
   "cell_type": "code",
   "execution_count": null,
   "id": "b0fc5a14",
   "metadata": {
    "scrolled": true
   },
   "outputs": [],
   "source": [
    "f, axarr = plt.subplots(2,5,figsize=(30,10))\n",
    "\n",
    "i=0\n",
    "for id, img_path in enumerate(os.listdir('Keypoint Detection/cleaned-dataset')[:5]):\n",
    "#     img = cv2.imread('bone-age/boneage-training-dataset/boneage-training-dataset/'+img_path)\n",
    "#     print(img.shape)\n",
    "    #create a CLAHE object (Arguments are optional).\n",
    "    gray = cv2.imread('Segmentation/segmented-dataset/'+img_path, cv2.IMREAD_GRAYSCALE)\n",
    "    \n",
    "    clahe = cv2.createCLAHE(clipLimit =2.0, tileGridSize=(8,8))\n",
    "    cl_img = clahe.apply(gray)\n",
    "\n",
    "#     print(gray.shape)\n",
    "    \n",
    "    axarr[0,i].imshow(gray, cmap='gray')\n",
    "\n",
    "#     lab = cv2.cvtColor(bgr, cv2.COLOR_BGR2LAB)\n",
    "    \n",
    "#     lab_planes = cv2.split(lab)\n",
    "    \n",
    "#     print(lab_planes[0].shape)\n",
    "\n",
    "#     clahe = cv2.createCLAHE(clipLimit=2.0,tileGridSize=(20, 20))\n",
    "\n",
    "#     lab_planes[0] = clahe.apply(lab_planes[0])\n",
    "\n",
    "#     lab = cv2.merge(lab_planes)\n",
    "\n",
    "#     bgr = cv2.cvtColor(lab, cv2.COLOR_LAB2BGR)\n",
    "    \n",
    "#     cv2.imwrite(f'transformed-dataset/{img_path}',bgr)\n",
    "    axarr[1,i].imshow(cl_img, cmap='gray')\n",
    "    i+=1"
   ]
  },
  {
   "cell_type": "code",
   "execution_count": null,
   "id": "1b307357",
   "metadata": {},
   "outputs": [],
   "source": []
  },
  {
   "cell_type": "markdown",
   "id": "107e2011",
   "metadata": {},
   "source": [
    "## Saving Non-Segmented Processed Image"
   ]
  },
  {
   "cell_type": "code",
   "execution_count": null,
   "id": "43496a4d",
   "metadata": {},
   "outputs": [],
   "source": [
    "dirs = os.listdir('bone-age/boneage-training-dataset/boneage-training-dataset')\n",
    "bar = tqdm(enumerate(dirs), total=len(dirs))\n",
    "for step, img_path in bar:\n",
    "    gray = cv2.imread('Keypoint Detection/cleaned-dataset/'+img_path, cv2.IMREAD_GRAYSCALE)\n",
    "    \n",
    "    clahe = cv2.createCLAHE(clipLimit =2.0, tileGridSize=(8, 8))\n",
    "    cl_img = clahe.apply(gray)\n",
    "\n",
    "#     print(gray.shape)\n",
    "    \n",
    "#     axarr[0,i].imshow(gray, cmap='gray')\n",
    "#     bgr = cv2.imread('bone-age/boneage-training-dataset/boneage-training-dataset/'+img_path)\n",
    "\n",
    "#     lab = cv2.cvtColor(bgr, cv2.COLOR_BGR2LAB)\n",
    "\n",
    "#     lab_planes = cv2.split(lab)\n",
    "\n",
    "#     clahe = cv2.createCLAHE(clipLimit=2.0,tileGridSize=(20, 20))\n",
    "\n",
    "#     lab_planes[0] = clahe.apply(lab_planes[0])\n",
    "\n",
    "#     lab = cv2.merge(lab_planes)\n",
    "\n",
    "#     bgr = cv2.cvtColor(lab, cv2.COLOR_LAB2BGR)\n",
    "    \n",
    "    cv2.imwrite(f'processed-dataset/{img_path}',cl_img)"
   ]
  },
  {
   "cell_type": "markdown",
   "id": "788e3bb4",
   "metadata": {},
   "source": [
    "## Visualize Segmented"
   ]
  },
  {
   "cell_type": "code",
   "execution_count": null,
   "id": "cc74053a",
   "metadata": {},
   "outputs": [],
   "source": [
    "f, axarr = plt.subplots(2,5,figsize=(30,10))\n",
    "\n",
    "i=0\n",
    "for id, img_path in enumerate(os.listdir('bone-age/boneage-training-dataset/boneage-training-dataset-segmented')[:5]):\n",
    "#     img = cv2.imread('bone-age/boneage-training-dataset/boneage-training-dataset/'+img_path)\n",
    "#     print(img.shape)\n",
    "    #create a CLAHE object (Arguments are optional).\n",
    "    bgr = cv2.imread('bone-age/boneage-training-dataset/boneage-training-dataset-segmented/'+img_path)\n",
    "    axarr[0,i].imshow(bgr)\n",
    "\n",
    "    lab = cv2.cvtColor(bgr, cv2.COLOR_BGR2LAB)\n",
    "\n",
    "    lab_planes = cv2.split(lab)\n",
    "\n",
    "    clahe = cv2.createCLAHE(clipLimit=2.0,tileGridSize=(20, 20))\n",
    "\n",
    "    lab_planes[0] = clahe.apply(lab_planes[0])\n",
    "\n",
    "    lab = cv2.merge(lab_planes)\n",
    "\n",
    "    bgr = cv2.cvtColor(lab, cv2.COLOR_LAB2BGR)\n",
    "    \n",
    "#     cv2.imwrite(f'transformed-dataset/{img_path}',bgr)\n",
    "    axarr[1,i].imshow(bgr)\n",
    "    i+=1"
   ]
  },
  {
   "cell_type": "markdown",
   "id": "dbcb08a9",
   "metadata": {},
   "source": [
    "## Saving Non-Segmented Processed Image"
   ]
  },
  {
   "cell_type": "code",
   "execution_count": null,
   "id": "0e578a99",
   "metadata": {},
   "outputs": [],
   "source": [
    "!mkdir transformed-dataset-segmented"
   ]
  },
  {
   "cell_type": "code",
   "execution_count": null,
   "id": "05a718bf",
   "metadata": {},
   "outputs": [],
   "source": [
    "files = os.listdir('bone-age/boneage-training-dataset/boneage-training-dataset-segmented')\n",
    "bar = tqdm(enumerate(files), total=len(files))\n",
    "for step, img_path in bar:\n",
    "    bgr = cv2.imread('bone-age/boneage-training-dataset/boneage-training-dataset-segmented/'+img_path)\n",
    "\n",
    "    lab = cv2.cvtColor(bgr, cv2.COLOR_BGR2LAB)\n",
    "\n",
    "    lab_planes = cv2.split(lab)\n",
    "\n",
    "    clahe = cv2.createCLAHE(clipLimit=2.0,tileGridSize=(20, 20))\n",
    "\n",
    "    lab_planes[0] = clahe.apply(lab_planes[0])\n",
    "\n",
    "    lab = cv2.merge(lab_planes)\n",
    "\n",
    "    bgr = cv2.cvtColor(lab, cv2.COLOR_LAB2BGR)\n",
    "    \n",
    "    cv2.imwrite(f'transformed-dataset-segmented/{img_path}',bgr)"
   ]
  },
  {
   "cell_type": "code",
   "execution_count": null,
   "id": "6439b867",
   "metadata": {},
   "outputs": [],
   "source": []
  }
 ],
 "metadata": {
  "kernelspec": {
   "display_name": "Python 3 (ipykernel)",
   "language": "python",
   "name": "python3"
  },
  "language_info": {
   "codemirror_mode": {
    "name": "ipython",
    "version": 3
   },
   "file_extension": ".py",
   "mimetype": "text/x-python",
   "name": "python",
   "nbconvert_exporter": "python",
   "pygments_lexer": "ipython3",
   "version": "3.9.13"
  }
 },
 "nbformat": 4,
 "nbformat_minor": 5
}
